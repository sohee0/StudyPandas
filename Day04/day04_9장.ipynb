{
 "cells": [
  {
   "cell_type": "raw",
   "id": "67816bfd-f503-4e4f-83b8-fbf6a6601f0b",
   "metadata": {},
   "source": [
    "# 물건 가격 입력받아서 출력. 천단위구분기호 넣기. 소수2자리\n",
    "f포맷팅 이용해서 출력"
   ]
  },
  {
   "cell_type": "code",
   "execution_count": 2,
   "id": "3fb1dddd-3671-4dd8-9bbc-c18375a27352",
   "metadata": {},
   "outputs": [
    {
     "name": "stdin",
     "output_type": "stream",
     "text": [
      "가격을 입력하세요. :  999999\n"
     ]
    },
    {
     "name": "stdout",
     "output_type": "stream",
     "text": [
      "999,999.00\n"
     ]
    }
   ],
   "source": [
    "while True : \n",
    "    price = input('가격을 입력하세요. : ')\n",
    "    if price.isdigit():\n",
    "        price = int(price)\n",
    "        break\n",
    "print(f'{price:,.2f}')"
   ]
  },
  {
   "cell_type": "code",
   "execution_count": 1,
   "id": "06227bb9-070e-4f75-bf42-846cd806fb64",
   "metadata": {},
   "outputs": [],
   "source": [
    "import re"
   ]
  },
  {
   "cell_type": "raw",
   "id": "e9d4fcdb-b21e-4d6f-9f49-b8c6c388b253",
   "metadata": {},
   "source": [
    "전화번호 입력 형식 :숫자2~3-숫자3~4-숫자4\n",
    "정확하게 입력 될때까지 반복. 정확히 입력된 값은 출력."
   ]
  },
  {
   "cell_type": "code",
   "execution_count": 3,
   "id": "2cd05e0c-b13f-41c0-bb0c-56d547ae756a",
   "metadata": {},
   "outputs": [
    {
     "name": "stdin",
     "output_type": "stream",
     "text": [
      "번호를 입력하세요. :  011-111-1111\n"
     ]
    },
    {
     "name": "stdout",
     "output_type": "stream",
     "text": [
      "011-111-1111\n"
     ]
    }
   ],
   "source": [
    "while True:\n",
    "    number = input('번호를 입력하세요. : ')\n",
    "    p = '^[0-9]{2,3}-[0-9]{3,4}-[0-9]{4}'\n",
    "    result = re.search(p,number)\n",
    "    if result:\n",
    "        print(result.group())\n",
    "        break\n",
    "        \n"
   ]
  },
  {
   "cell_type": "raw",
   "id": "f9f7a347-80b3-44c7-8696-eb26abccf415",
   "metadata": {},
   "source": [
    "이메일입력. 아이디는 최소 5글자이상 첫글자는 숫자,특수문자 안돼 소문자,_,숫자만 가능\n",
    "아이디 뒤에 @ 필수 사이트주소 naver.com "
   ]
  },
  {
   "cell_type": "code",
   "execution_count": 5,
   "id": "a081e7ae-3fbd-480d-b078-1b492ece8119",
   "metadata": {},
   "outputs": [
    {
     "name": "stdin",
     "output_type": "stream",
     "text": [
      "입력:  gkdlfn1@naver.com\n"
     ]
    },
    {
     "name": "stdout",
     "output_type": "stream",
     "text": [
      "gkdlfn1@naver.com\n"
     ]
    }
   ],
   "source": [
    "while True:\n",
    "    i = input('입력: ')\n",
    "    p = '[a-z][a-z0-9_]{4,}@[a-z]{2,}[.][a-z]{2,}'\n",
    "    patt = re.compile(p)\n",
    "    result = patt.match(i)\n",
    "    if result:\n",
    "        print(result.group())\n",
    "        break"
   ]
  },
  {
   "cell_type": "code",
   "execution_count": 5,
   "id": "094ce77f-6f80-4a3d-93a3-f07d7daf1627",
   "metadata": {},
   "outputs": [
    {
     "name": "stdin",
     "output_type": "stream",
     "text": [
      "한글이름:  소히\n"
     ]
    },
    {
     "name": "stdout",
     "output_type": "stream",
     "text": [
      "소히\n"
     ]
    }
   ],
   "source": [
    "while True:\n",
    "    i = input('한글이름: ')\n",
    "    p = '[ㄱ_|가-힣]{2,}'\n",
    "    patt = re.compile(p)\n",
    "    result = patt.match(i)\n",
    "    if result:\n",
    "        print(result.group())\n",
    "        break"
   ]
  },
  {
   "cell_type": "code",
   "execution_count": null,
   "id": "a4acb328-fe5c-4f3c-b20a-ca03f4a80803",
   "metadata": {},
   "outputs": [],
   "source": []
  }
 ],
 "metadata": {
  "kernelspec": {
   "display_name": "Python 3 (ipykernel)",
   "language": "python",
   "name": "python3"
  },
  "language_info": {
   "codemirror_mode": {
    "name": "ipython",
    "version": 3
   },
   "file_extension": ".py",
   "mimetype": "text/x-python",
   "name": "python",
   "nbconvert_exporter": "python",
   "pygments_lexer": "ipython3",
   "version": "3.9.12"
  }
 },
 "nbformat": 4,
 "nbformat_minor": 5
}
